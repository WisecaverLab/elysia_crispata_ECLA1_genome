{
 "cells": [
  {
   "cell_type": "code",
   "execution_count": 1,
   "id": "7e4958d6",
   "metadata": {},
   "outputs": [],
   "source": [
    "import matplotlib\n",
    "from matplotlib_venn import venn3\n",
    "from matplotlib import pyplot as plt\n",
    "import statistics"
   ]
  },
  {
   "cell_type": "code",
   "execution_count": 2,
   "id": "7acb9bd7",
   "metadata": {},
   "outputs": [],
   "source": [
    "# input files\n",
    "gfffile = '../../../figshare/annotation/genes/Elysia_crispata_ECLA1_v1.gff'\n",
    "annfile = '../../../figshare/functional_enrichment_analysis/Elysia_eggnog_annotations.txt'\n",
    "tpmfile = '../../../figshare/gene_expression/lengthScaledTPM.matrix'\n",
    "ogfile = '../../../figshare/orthofinder/Orthogroups/Orthogroups.tsv'\n",
    "\n",
    "highqualityfile = '../../../figshare/annotation/genes/Elysia_crispata_ECLA1_high_quality_geneset.txt'"
   ]
  },
  {
   "cell_type": "code",
   "execution_count": 5,
   "id": "84c75a90",
   "metadata": {},
   "outputs": [],
   "source": [
    "# Read GFF for gene and exon counts/lengths\n",
    "geneDict = {}\n",
    "exonDict = {}\n",
    "\n",
    "fi = open(gfffile)\n",
    "\n",
    "for line in fi:\n",
    "    col = line.rstrip().split('\\t')\n",
    "    ftype = col[2]\n",
    "    start = int(col[3])\n",
    "    end = int(col[4])\n",
    "    \n",
    "    if ftype == 'gene':\n",
    "        glen = end - start\n",
    "        gid = col[8].split('ID=')[1].split(';')[0]\n",
    "        #print(gid,glen)\n",
    "        \n",
    "        geneDict[gid] = glen\n",
    "        \n",
    "    if ftype == 'exon':\n",
    "        elen = end - start\n",
    "        eid = col[8].split('ID=')[1].split(';')[0]\n",
    "        tid = col[8].split('Parent=')[1].split(';')[0]\n",
    "        gid = tid.split('.')[0]\n",
    "        #print(eid, tid, elen)\n",
    "        \n",
    "        if tid not in exonDict:\n",
    "            exonDict[tid] = {}\n",
    "        \n",
    "        exonDict[tid][eid] = elen\n",
    "\n",
    "fi.close()"
   ]
  },
  {
   "cell_type": "markdown",
   "id": "dae76d34",
   "metadata": {},
   "source": [
    "# Summary statistics for Total Gene Set\n",
    "## Number of genes"
   ]
  },
  {
   "cell_type": "code",
   "execution_count": 6,
   "id": "b4d074f5",
   "metadata": {},
   "outputs": [
    {
     "data": {
      "text/plain": [
       "68514"
      ]
     },
     "execution_count": 6,
     "metadata": {},
     "output_type": "execute_result"
    }
   ],
   "source": [
    "len(geneDict)"
   ]
  },
  {
   "cell_type": "markdown",
   "id": "38965a57",
   "metadata": {},
   "source": [
    "## Mean and Median gene length"
   ]
  },
  {
   "cell_type": "code",
   "execution_count": 7,
   "id": "aefaead4",
   "metadata": {},
   "outputs": [
    {
     "data": {
      "text/plain": [
       "5779.5676212161015"
      ]
     },
     "execution_count": 7,
     "metadata": {},
     "output_type": "execute_result"
    }
   ],
   "source": [
    "sum(geneDict.values()) / len(geneDict.values())"
   ]
  },
  {
   "cell_type": "code",
   "execution_count": 8,
   "id": "7ed8e7cb",
   "metadata": {},
   "outputs": [
    {
     "data": {
      "text/plain": [
       "2483.0"
      ]
     },
     "execution_count": 8,
     "metadata": {},
     "output_type": "execute_result"
    }
   ],
   "source": [
    "statistics.median(geneDict.values())"
   ]
  },
  {
   "cell_type": "markdown",
   "id": "2b9c0e01",
   "metadata": {},
   "source": [
    "## Number of transcripts/proteins"
   ]
  },
  {
   "cell_type": "code",
   "execution_count": 9,
   "id": "270f3b23",
   "metadata": {},
   "outputs": [
    {
     "data": {
      "text/plain": [
       "71367"
      ]
     },
     "execution_count": 9,
     "metadata": {},
     "output_type": "execute_result"
    }
   ],
   "source": [
    "len(exonDict)"
   ]
  },
  {
   "cell_type": "code",
   "execution_count": 10,
   "id": "801352f3",
   "metadata": {},
   "outputs": [],
   "source": [
    "ecountList = []\n",
    "elenList = []\n",
    "\n",
    "for tid in exonDict:\n",
    "    ecount = len(exonDict[tid])\n",
    "    ecountList.append(ecount)\n",
    "    \n",
    "    for eid in exonDict[tid]:\n",
    "        elenList.append(exonDict[tid][eid])"
   ]
  },
  {
   "cell_type": "markdown",
   "id": "96a0018e",
   "metadata": {},
   "source": [
    "## Mean and median number of expon per transcript/protein"
   ]
  },
  {
   "cell_type": "code",
   "execution_count": 11,
   "id": "2604ff6a",
   "metadata": {},
   "outputs": [
    {
     "data": {
      "text/plain": [
       "4.8210937828408085"
      ]
     },
     "execution_count": 11,
     "metadata": {},
     "output_type": "execute_result"
    }
   ],
   "source": [
    "sum(ecountList) / len(ecountList)"
   ]
  },
  {
   "cell_type": "code",
   "execution_count": 12,
   "id": "277069bc",
   "metadata": {},
   "outputs": [
    {
     "data": {
      "text/plain": [
       "3"
      ]
     },
     "execution_count": 12,
     "metadata": {},
     "output_type": "execute_result"
    }
   ],
   "source": [
    "statistics.median(ecountList)"
   ]
  },
  {
   "cell_type": "markdown",
   "id": "45cff0f4",
   "metadata": {},
   "source": [
    "## Mean and median exon length"
   ]
  },
  {
   "cell_type": "code",
   "execution_count": 13,
   "id": "249e7515",
   "metadata": {},
   "outputs": [
    {
     "data": {
      "text/plain": [
       "207.2859297753054"
      ]
     },
     "execution_count": 13,
     "metadata": {},
     "output_type": "execute_result"
    }
   ],
   "source": [
    "sum(elenList) / len(elenList)"
   ]
  },
  {
   "cell_type": "code",
   "execution_count": 14,
   "id": "1ac998aa",
   "metadata": {},
   "outputs": [
    {
     "data": {
      "text/plain": [
       "132"
      ]
     },
     "execution_count": 14,
     "metadata": {},
     "output_type": "execute_result"
    }
   ],
   "source": [
    "statistics.median(elenList)"
   ]
  },
  {
   "cell_type": "code",
   "execution_count": 60,
   "id": "1ec8fbe2",
   "metadata": {},
   "outputs": [],
   "source": [
    "# Read annotation file\n",
    "annotatedSet = set()\n",
    "anndbDict = {}\n",
    "anndbDict['GO'] = set()\n",
    "anndbDict['KEGG'] = set()\n",
    "anndbDict['PFAM'] = set()\n",
    "anndbDict['CAZY'] = set()\n",
    "\n",
    "fi = open(annfile)\n",
    "\n",
    "for line in fi:\n",
    "    if line[0] == '#':\n",
    "        continue\n",
    "    \n",
    "    col = line.rstrip().split('\\t')\n",
    "    \n",
    "    gene = col[0].split('.')[0]\n",
    "    annotatedSet.add(gene)\n",
    "    \n",
    "    gos = col[9]\n",
    "    if gos != '-':\n",
    "        #print(gos.split(',')[0])\n",
    "        anndbDict['GO'].add(gene)\n",
    "        \n",
    "    keggs = col[11]\n",
    "    if keggs != '-':\n",
    "        #print(keggs.split(',')[0])\n",
    "        anndbDict['KEGG'].add(gene)\n",
    "        \n",
    "    cazys = col[18]\n",
    "    if cazys != '-':\n",
    "        #print(cazys.split(',')[0])\n",
    "        anndbDict['CAZY'].add(gene)\n",
    "\n",
    "    pfams = col[20]\n",
    "    if pfams != '-':\n",
    "        #print(pfams.split(',')[0])\n",
    "        anndbDict['PFAM'].add(gene)    \n",
    "\n",
    "fi.close()"
   ]
  },
  {
   "cell_type": "code",
   "execution_count": 63,
   "id": "ca434835",
   "metadata": {},
   "outputs": [
    {
     "name": "stdout",
     "output_type": "stream",
     "text": [
      "GO 10287 15.01444960154129\n",
      "KEGG 10624 15.506319876229677\n",
      "PFAM 16601 24.23008436232011\n",
      "CAZY 341 0.4977084975333508\n"
     ]
    }
   ],
   "source": [
    "for cat in anndbDict:\n",
    "    print(cat, len(anndbDict[cat]), len(anndbDict[cat])/len(geneDict.values())*100)"
   ]
  },
  {
   "cell_type": "markdown",
   "id": "e970121a",
   "metadata": {},
   "source": [
    "## Number of genes with annotation support"
   ]
  },
  {
   "cell_type": "code",
   "execution_count": 18,
   "id": "52b11f54",
   "metadata": {
    "scrolled": true
   },
   "outputs": [
    {
     "data": {
      "text/plain": [
       "17963"
      ]
     },
     "execution_count": 18,
     "metadata": {},
     "output_type": "execute_result"
    }
   ],
   "source": [
    "len(annotatedSet)"
   ]
  },
  {
   "cell_type": "markdown",
   "id": "6c834003",
   "metadata": {},
   "source": [
    "## Percentage of genes with annotation support"
   ]
  },
  {
   "cell_type": "code",
   "execution_count": 19,
   "id": "d421555f",
   "metadata": {},
   "outputs": [
    {
     "data": {
      "text/plain": [
       "26.21799924103103"
      ]
     },
     "execution_count": 19,
     "metadata": {},
     "output_type": "execute_result"
    }
   ],
   "source": [
    "len(annotatedSet) / len(geneDict) * 100"
   ]
  },
  {
   "cell_type": "code",
   "execution_count": 21,
   "id": "03aebf8e",
   "metadata": {},
   "outputs": [],
   "source": [
    "# Read orthogroup file\n",
    "orthogroupedSet = set()\n",
    "\n",
    "fi = open(ogfile)\n",
    "\n",
    "for line in fi:\n",
    "    col = line.rstrip().split('\\t')\n",
    "    \n",
    "    if col[0] == 'Orthogroup':\n",
    "        continue\n",
    "        \n",
    "    og = col.pop(0)\n",
    "    if len(col) < 3:\n",
    "        continue \n",
    "        \n",
    "    genes = col.pop(2)\n",
    "    if genes == '':\n",
    "        continue\n",
    "    genelist = genes.split(', ')\n",
    "    \n",
    "    count = 0\n",
    "    for sp in col:\n",
    "        if sp != '':\n",
    "            count += 1\n",
    "    \n",
    "    #print(og, count)\n",
    "    if count > 0:\n",
    "        for gene in genelist:\n",
    "            gene = gene.split('.')[0]\n",
    "            #print(og,gene)\n",
    "            orthogroupedSet.add(gene)\n",
    "\n",
    "fi.close()"
   ]
  },
  {
   "cell_type": "markdown",
   "id": "8b89f036",
   "metadata": {},
   "source": [
    "## Number of genes with orthogroup support"
   ]
  },
  {
   "cell_type": "code",
   "execution_count": 22,
   "id": "48126b31",
   "metadata": {},
   "outputs": [
    {
     "data": {
      "text/plain": [
       "28489"
      ]
     },
     "execution_count": 22,
     "metadata": {},
     "output_type": "execute_result"
    }
   ],
   "source": [
    "len(orthogroupedSet)"
   ]
  },
  {
   "cell_type": "markdown",
   "id": "d7c628f8",
   "metadata": {},
   "source": [
    "## Percentage of genes with orthogroup support"
   ]
  },
  {
   "cell_type": "code",
   "execution_count": 23,
   "id": "9b6a6563",
   "metadata": {},
   "outputs": [
    {
     "data": {
      "text/plain": [
       "41.581282657559036"
      ]
     },
     "execution_count": 23,
     "metadata": {},
     "output_type": "execute_result"
    }
   ],
   "source": [
    "len(orthogroupedSet) / len(geneDict) * 100"
   ]
  },
  {
   "cell_type": "code",
   "execution_count": 25,
   "id": "032f8300",
   "metadata": {},
   "outputs": [],
   "source": [
    "# Read TPM expression file\n",
    "expressed1Set = set()\n",
    "expressed2Set = set()\n",
    "expressed10Set = set()\n",
    "\n",
    "fi = open(tpmfile)\n",
    "\n",
    "for line in fi:\n",
    "    col = line.rstrip().split('\\t')\n",
    "    if col[0] == 'AS1':\n",
    "        continue\n",
    "    \n",
    "    gene = col.pop(0)\n",
    "    \n",
    "    col = [float(i) for i in col]\n",
    "    \n",
    "    #print(gene)\n",
    "    \n",
    "    jslug = sum(col[0:3]) / 3\n",
    "    egg = sum(col[6:9]) /3\n",
    "    vel = sum(col[12:]) / 3\n",
    "    lslug = sum(col[9:12]) / 3\n",
    "    #print(gene,lslug)\n",
    "    \n",
    "    avgtmp = [egg, vel, lslug, jslug]\n",
    "    #print(gene, max(avgtmp))\n",
    "    \n",
    "    if max(avgtmp) > 1:\n",
    "        expressed1Set.add(gene)\n",
    "        \n",
    "    if max(avgtmp) >= 2:\n",
    "        expressed2Set.add(gene)\n",
    "\n",
    "    if max(avgtmp) >= 10:\n",
    "        expressed10Set.add(gene)    \n",
    "\n",
    "fi.close()"
   ]
  },
  {
   "cell_type": "markdown",
   "id": "732abfc4",
   "metadata": {},
   "source": [
    "## Number of genes with expression support"
   ]
  },
  {
   "cell_type": "code",
   "execution_count": 26,
   "id": "b0a99fc4",
   "metadata": {},
   "outputs": [
    {
     "data": {
      "text/plain": [
       "45593"
      ]
     },
     "execution_count": 26,
     "metadata": {},
     "output_type": "execute_result"
    }
   ],
   "source": [
    "len(expressed1Set)"
   ]
  },
  {
   "cell_type": "markdown",
   "id": "9933307d",
   "metadata": {},
   "source": [
    "## Percentage of genes with expression support"
   ]
  },
  {
   "cell_type": "code",
   "execution_count": 28,
   "id": "8462f538",
   "metadata": {},
   "outputs": [
    {
     "data": {
      "text/plain": [
       "66.54552354263362"
      ]
     },
     "execution_count": 28,
     "metadata": {},
     "output_type": "execute_result"
    }
   ],
   "source": [
    "len(expressed1Set) / len(geneDict) * 100"
   ]
  },
  {
   "cell_type": "markdown",
   "id": "be270366",
   "metadata": {},
   "source": [
    "# Plot support overlap (TPM >=1)"
   ]
  },
  {
   "cell_type": "code",
   "execution_count": 29,
   "id": "14aad634",
   "metadata": {},
   "outputs": [
    {
     "data": {
      "image/png": "[encoded data removed]",
      "text/plain": [
       "<Figure size 432x288 with 1 Axes>"
      ]
     },
     "metadata": {},
     "output_type": "display_data"
    }
   ],
   "source": [
    "venn3([expressed1Set, orthogroupedSet, annotatedSet], ('Expression support', 'Orthogroup support', 'Annotation support'))\n",
    "matplotlib.pyplot.savefig('figures/annotation_support_venn_diagram.pdf')\n",
    "\n",
    "plt.show()"
   ]
  },
  {
   "cell_type": "code",
   "execution_count": 30,
   "id": "e1d81ab2",
   "metadata": {},
   "outputs": [
    {
     "data": {
      "text/plain": [
       "27767"
      ]
     },
     "execution_count": 30,
     "metadata": {},
     "output_type": "execute_result"
    }
   ],
   "source": [
    "sum([10238,15261,1279,989])"
   ]
  },
  {
   "cell_type": "markdown",
   "id": "8c722dab",
   "metadata": {},
   "source": [
    "## Number of genes with two or more types of support"
   ]
  },
  {
   "cell_type": "code",
   "execution_count": 31,
   "id": "02110420",
   "metadata": {},
   "outputs": [
    {
     "data": {
      "text/plain": [
       "27767"
      ]
     },
     "execution_count": 31,
     "metadata": {},
     "output_type": "execute_result"
    }
   ],
   "source": [
    "len(expressed1Set.intersection(orthogroupedSet).union(annotatedSet.intersection(orthogroupedSet)).union(annotatedSet.intersection(expressed1Set)))"
   ]
  },
  {
   "cell_type": "markdown",
   "id": "b601e151",
   "metadata": {},
   "source": [
    "# Plot support overlap (TPM >=2)"
   ]
  },
  {
   "cell_type": "code",
   "execution_count": 32,
   "id": "69fe8510",
   "metadata": {},
   "outputs": [
    {
     "data": {
      "image/png": "[encoded data removed]",
      "text/plain": [
       "<Figure size 432x288 with 1 Axes>"
      ]
     },
     "metadata": {},
     "output_type": "display_data"
    }
   ],
   "source": [
    "venn3([expressed2Set, orthogroupedSet, annotatedSet], ('Expression support', 'Orthogroup support', 'Annotation support'))\n",
    "plt.show()"
   ]
  },
  {
   "cell_type": "markdown",
   "id": "5e23f67c",
   "metadata": {},
   "source": [
    "## Number of genes with two or more types of support"
   ]
  },
  {
   "cell_type": "code",
   "execution_count": 33,
   "id": "d9138112",
   "metadata": {},
   "outputs": [
    {
     "data": {
      "text/plain": [
       "27040"
      ]
     },
     "execution_count": 33,
     "metadata": {},
     "output_type": "execute_result"
    }
   ],
   "source": [
    "len(expressed2Set.intersection(orthogroupedSet).union(annotatedSet.intersection(orthogroupedSet)).union(annotatedSet.intersection(expressed2Set)))"
   ]
  },
  {
   "cell_type": "markdown",
   "id": "693ea52e",
   "metadata": {},
   "source": [
    "# Plot support overlap (TPM >= 10)"
   ]
  },
  {
   "cell_type": "code",
   "execution_count": 34,
   "id": "8e216425",
   "metadata": {},
   "outputs": [
    {
     "data": {
      "image/png": "[encoded data removed]",
      "text/plain": [
       "<Figure size 432x288 with 1 Axes>"
      ]
     },
     "metadata": {},
     "output_type": "display_data"
    }
   ],
   "source": [
    "venn3([expressed10Set, orthogroupedSet, annotatedSet], ('Expression support', 'Orthogroup support', 'Annotation support'))\n",
    "plt.show()"
   ]
  },
  {
   "cell_type": "markdown",
   "id": "fd4a4c1f",
   "metadata": {},
   "source": [
    "## Number of genes with two or more types of support"
   ]
  },
  {
   "cell_type": "code",
   "execution_count": 35,
   "id": "6a886405",
   "metadata": {},
   "outputs": [
    {
     "data": {
      "text/plain": [
       "24696"
      ]
     },
     "execution_count": 35,
     "metadata": {},
     "output_type": "execute_result"
    }
   ],
   "source": [
    "len(expressed10Set.intersection(orthogroupedSet).union(annotatedSet.intersection(orthogroupedSet)).union(annotatedSet.intersection(expressed10Set)))"
   ]
  },
  {
   "cell_type": "markdown",
   "id": "86f538b3",
   "metadata": {},
   "source": [
    "# Summary Statistics for High Quality gene set\n",
    "Using relaxed TPM >= 1 threshold"
   ]
  },
  {
   "cell_type": "code",
   "execution_count": 36,
   "id": "68b5739f",
   "metadata": {},
   "outputs": [],
   "source": [
    "hqgeneSet = expressed1Set.intersection(orthogroupedSet).union(annotatedSet.intersection(orthogroupedSet)).union(annotatedSet.intersection(expressed1Set))"
   ]
  },
  {
   "cell_type": "code",
   "execution_count": 37,
   "id": "edcc8f74",
   "metadata": {},
   "outputs": [],
   "source": [
    "fo = open(highqualityfile, 'w')\n",
    "\n",
    "for gene in hqgeneSet:\n",
    "    #print(gene)\n",
    "    fo.write(gene + '\\n')\n",
    "\n",
    "fo.close()"
   ]
  },
  {
   "cell_type": "markdown",
   "id": "7c18eb33",
   "metadata": {},
   "source": [
    "## Number of genes"
   ]
  },
  {
   "cell_type": "code",
   "execution_count": 38,
   "id": "2ccc8505",
   "metadata": {},
   "outputs": [
    {
     "data": {
      "text/plain": [
       "27767"
      ]
     },
     "execution_count": 38,
     "metadata": {},
     "output_type": "execute_result"
    }
   ],
   "source": [
    "len(hqgeneSet)"
   ]
  },
  {
   "cell_type": "markdown",
   "id": "10e198ad",
   "metadata": {},
   "source": [
    "## Mean and Median gene length"
   ]
  },
  {
   "cell_type": "code",
   "execution_count": 39,
   "id": "22ceb9c2",
   "metadata": {},
   "outputs": [
    {
     "data": {
      "text/plain": [
       "10610.161954838477"
      ]
     },
     "execution_count": 39,
     "metadata": {},
     "output_type": "execute_result"
    }
   ],
   "source": [
    "hqgeneDict = {}\n",
    "\n",
    "for gene in geneDict:\n",
    "    if gene in hqgeneSet:\n",
    "        hqgeneDict[gene] = geneDict[gene]\n",
    "        \n",
    "sum(hqgeneDict.values()) / len(hqgeneDict.values())"
   ]
  },
  {
   "cell_type": "code",
   "execution_count": 40,
   "id": "61cea454",
   "metadata": {},
   "outputs": [
    {
     "data": {
      "text/plain": [
       "6891"
      ]
     },
     "execution_count": 40,
     "metadata": {},
     "output_type": "execute_result"
    }
   ],
   "source": [
    "statistics.median(hqgeneDict.values())"
   ]
  },
  {
   "cell_type": "markdown",
   "id": "d0cea886",
   "metadata": {},
   "source": [
    "## Number of transcripts/proteins"
   ]
  },
  {
   "cell_type": "code",
   "execution_count": 41,
   "id": "b528ef6d",
   "metadata": {},
   "outputs": [
    {
     "data": {
      "text/plain": [
       "30043"
      ]
     },
     "execution_count": 41,
     "metadata": {},
     "output_type": "execute_result"
    }
   ],
   "source": [
    "hqexonDict = {}\n",
    "\n",
    "for tid in exonDict:\n",
    "    gene = tid.split('.')[0]\n",
    "    if gene in hqgeneSet:\n",
    "        hqexonDict[tid] = exonDict[tid]\n",
    "    \n",
    "len(hqexonDict)"
   ]
  },
  {
   "cell_type": "code",
   "execution_count": 42,
   "id": "7268214d",
   "metadata": {},
   "outputs": [],
   "source": [
    "hqecountList = []\n",
    "hqelenList = []\n",
    "\n",
    "for tid in hqexonDict:\n",
    "    ecount = len(hqexonDict[tid])\n",
    "    hqecountList.append(ecount)\n",
    "    \n",
    "    for eid in hqexonDict[tid]:\n",
    "        hqelenList.append(hqexonDict[tid][eid])"
   ]
  },
  {
   "cell_type": "markdown",
   "id": "b579982e",
   "metadata": {},
   "source": [
    "## Mean and Median number of expons per transcript/protein"
   ]
  },
  {
   "cell_type": "code",
   "execution_count": 43,
   "id": "7dfb3977",
   "metadata": {},
   "outputs": [
    {
     "data": {
      "text/plain": [
       "8.110175415238158"
      ]
     },
     "execution_count": 43,
     "metadata": {},
     "output_type": "execute_result"
    }
   ],
   "source": [
    "sum(hqecountList) / len(hqecountList)"
   ]
  },
  {
   "cell_type": "code",
   "execution_count": 44,
   "id": "04e3b40a",
   "metadata": {},
   "outputs": [
    {
     "data": {
      "text/plain": [
       "5"
      ]
     },
     "execution_count": 44,
     "metadata": {},
     "output_type": "execute_result"
    }
   ],
   "source": [
    "statistics.median(hqecountList)"
   ]
  },
  {
   "cell_type": "markdown",
   "id": "69095fe5",
   "metadata": {},
   "source": [
    "## Mean and Median exon length"
   ]
  },
  {
   "cell_type": "code",
   "execution_count": 45,
   "id": "49af4f8e",
   "metadata": {},
   "outputs": [
    {
     "data": {
      "text/plain": [
       "201.20460160719708"
      ]
     },
     "execution_count": 45,
     "metadata": {},
     "output_type": "execute_result"
    }
   ],
   "source": [
    "sum(hqelenList) / len(hqelenList)"
   ]
  },
  {
   "cell_type": "code",
   "execution_count": 46,
   "id": "dd237c70",
   "metadata": {},
   "outputs": [
    {
     "data": {
      "text/plain": [
       "128.0"
      ]
     },
     "execution_count": 46,
     "metadata": {},
     "output_type": "execute_result"
    }
   ],
   "source": [
    "statistics.median(hqelenList)"
   ]
  },
  {
   "cell_type": "markdown",
   "id": "bfd9e2f3",
   "metadata": {},
   "source": [
    "## Number of genes with annotation support"
   ]
  },
  {
   "cell_type": "code",
   "execution_count": 47,
   "id": "dbbede8c",
   "metadata": {
    "scrolled": true
   },
   "outputs": [
    {
     "data": {
      "text/plain": [
       "17529"
      ]
     },
     "execution_count": 47,
     "metadata": {},
     "output_type": "execute_result"
    }
   ],
   "source": [
    "len(annotatedSet.intersection(hqgeneSet)) "
   ]
  },
  {
   "cell_type": "markdown",
   "id": "d0922b80",
   "metadata": {},
   "source": [
    "## Percentage of genes with annotation support"
   ]
  },
  {
   "cell_type": "code",
   "execution_count": 48,
   "id": "e81f270d",
   "metadata": {},
   "outputs": [
    {
     "data": {
      "text/plain": [
       "63.12889401087622"
      ]
     },
     "execution_count": 48,
     "metadata": {},
     "output_type": "execute_result"
    }
   ],
   "source": [
    "len(annotatedSet.intersection(hqgeneSet)) / len(hqgeneSet) * 100"
   ]
  },
  {
   "cell_type": "code",
   "execution_count": 67,
   "id": "dab871bf",
   "metadata": {},
   "outputs": [
    {
     "name": "stdout",
     "output_type": "stream",
     "text": [
      "GO 10191 36.70184031404185\n"
     ]
    }
   ],
   "source": [
    "#GO\n",
    "print('GO', len(anndbDict['GO'].intersection(hqgeneSet)), len(anndbDict['GO'].intersection(hqgeneSet))/len(hqgeneSet)*100)    "
   ]
  },
  {
   "cell_type": "code",
   "execution_count": 68,
   "id": "d321093f",
   "metadata": {},
   "outputs": [
    {
     "name": "stdout",
     "output_type": "stream",
     "text": [
      "KEGG 10498 37.80746929808766\n"
     ]
    }
   ],
   "source": [
    "#GO\n",
    "print('KEGG', len(anndbDict['KEGG'].intersection(hqgeneSet)), len(anndbDict['KEGG'].intersection(hqgeneSet))/len(hqgeneSet)*100)    \n"
   ]
  },
  {
   "cell_type": "code",
   "execution_count": 69,
   "id": "b8fc1810",
   "metadata": {},
   "outputs": [
    {
     "name": "stdout",
     "output_type": "stream",
     "text": [
      "CAZY 337 1.2136709043108727\n"
     ]
    }
   ],
   "source": [
    "##CAZY\n",
    "print('CAZY', len(anndbDict['CAZY'].intersection(hqgeneSet)), len(anndbDict['CAZY'].intersection(hqgeneSet))/len(hqgeneSet)*100)    \n"
   ]
  },
  {
   "cell_type": "code",
   "execution_count": 70,
   "id": "377bbd40",
   "metadata": {},
   "outputs": [
    {
     "name": "stdout",
     "output_type": "stream",
     "text": [
      "PFAM 16220 58.41466488997731\n"
     ]
    }
   ],
   "source": [
    "##PFAM\n",
    "print('PFAM', len(anndbDict['PFAM'].intersection(hqgeneSet)), len(anndbDict['PFAM'].intersection(hqgeneSet))/len(hqgeneSet)*100)    \n",
    "\n"
   ]
  },
  {
   "cell_type": "markdown",
   "id": "922beb65",
   "metadata": {},
   "source": [
    "## Number of genes with orthogroup support"
   ]
  },
  {
   "cell_type": "code",
   "execution_count": 49,
   "id": "5b8d3b7c",
   "metadata": {},
   "outputs": [
    {
     "data": {
      "text/plain": [
       "26488"
      ]
     },
     "execution_count": 49,
     "metadata": {},
     "output_type": "execute_result"
    }
   ],
   "source": [
    "len(orthogroupedSet.intersection(hqgeneSet)) "
   ]
  },
  {
   "cell_type": "markdown",
   "id": "5bef3f3f",
   "metadata": {},
   "source": [
    "## Percentage of genes with orthogroup support"
   ]
  },
  {
   "cell_type": "code",
   "execution_count": 50,
   "id": "bdeb2a13",
   "metadata": {},
   "outputs": [
    {
     "data": {
      "text/plain": [
       "95.39381279936615"
      ]
     },
     "execution_count": 50,
     "metadata": {},
     "output_type": "execute_result"
    }
   ],
   "source": [
    "len(orthogroupedSet.intersection(hqgeneSet)) / len(hqgeneSet) * 100"
   ]
  },
  {
   "cell_type": "markdown",
   "id": "9c99e051",
   "metadata": {},
   "source": [
    "## Number of genes with expression support"
   ]
  },
  {
   "cell_type": "code",
   "execution_count": 51,
   "id": "af67280d",
   "metadata": {},
   "outputs": [
    {
     "data": {
      "text/plain": [
       "26778"
      ]
     },
     "execution_count": 51,
     "metadata": {},
     "output_type": "execute_result"
    }
   ],
   "source": [
    "len(expressed1Set.intersection(hqgeneSet)) "
   ]
  },
  {
   "cell_type": "markdown",
   "id": "91958222",
   "metadata": {},
   "source": [
    "## Percentage of genes with expression support"
   ]
  },
  {
   "cell_type": "code",
   "execution_count": 52,
   "id": "6a9edc54",
   "metadata": {},
   "outputs": [
    {
     "data": {
      "text/plain": [
       "96.43821802859509"
      ]
     },
     "execution_count": 52,
     "metadata": {},
     "output_type": "execute_result"
    }
   ],
   "source": [
    "len(expressed1Set.intersection(hqgeneSet)) / len(hqgeneSet) * 100"
   ]
  },
  {
   "cell_type": "code",
   "execution_count": null,
   "id": "74b9f3f5",
   "metadata": {},
   "outputs": [],
   "source": []
  }
 ],
 "metadata": {
  "kernelspec": {
   "display_name": "Python (My env.genomics Kernel)",
   "language": "python",
   "name": "env.genomics"
  },
  "language_info": {
   "codemirror_mode": {
    "name": "ipython",
    "version": 3
   },
   "file_extension": ".py",
   "mimetype": "text/x-python",
   "name": "python",
   "nbconvert_exporter": "python",
   "pygments_lexer": "ipython3",
   "version": "3.6.10"
  }
 },
 "nbformat": 4,
 "nbformat_minor": 5
}
