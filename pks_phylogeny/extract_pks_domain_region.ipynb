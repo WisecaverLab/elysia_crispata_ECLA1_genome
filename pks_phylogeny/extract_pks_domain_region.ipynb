{
 "cells": [
  {
   "cell_type": "code",
   "execution_count": 33,
   "id": "3dbde609",
   "metadata": {},
   "outputs": [],
   "source": [
    "import os\n",
    "os.environ['QT_QPA_PLATFORM']='offscreen'\n",
    "import re\n",
    "import Bio\n",
    "from Bio import Seq, SeqIO"
   ]
  },
  {
   "cell_type": "code",
   "execution_count": 34,
   "id": "c9764475",
   "metadata": {},
   "outputs": [],
   "source": [
    "import ete3\n",
    "from ete3 import Tree, faces, TreeStyle, PhyloTree, NodeStyle, TextFace, AttrFace, SeqMotifFace"
   ]
  },
  {
   "cell_type": "code",
   "execution_count": 41,
   "id": "b36a52ed",
   "metadata": {},
   "outputs": [],
   "source": [
    "fastafile = 'Ecla12132g95200.t1.fa'\n",
    "hmmfile = 'KS_domans_domtblout.txt'\n",
    "outfile = 'KS_domans.fa'"
   ]
  },
  {
   "cell_type": "code",
   "execution_count": 36,
   "id": "606e7fa2",
   "metadata": {},
   "outputs": [],
   "source": [
    "seqDict = {}\n",
    "for record in SeqIO.parse(fastafile, \"fasta\"):\n",
    "    name = record.id\n",
    "    sequence = str(record.seq)\n",
    "    #print(name)\n",
    "    seqDict[name] = sequence"
   ]
  },
  {
   "cell_type": "code",
   "execution_count": 37,
   "id": "b39de418",
   "metadata": {},
   "outputs": [],
   "source": [
    "fi = open(hmmfile)\n",
    "\n",
    "domDict = {}\n",
    "\n",
    "for line in fi:\n",
    "    if line[0] == '#':\n",
    "        continue\n",
    "    \n",
    "    col = line.rstrip().split()\n",
    "    gene = col[3]\n",
    "    evalue = float(col[11])\n",
    "    \n",
    "    if evalue > 0.003:\n",
    "        #print('skipping shit evalue')\n",
    "        continue \n",
    "    \n",
    "    start = float(col[19])\n",
    "    stop = float(col[20])\n",
    "    \n",
    "    if gene not in domDict:\n",
    "        domDict[gene] = [1000000,0]\n",
    "    \n",
    "    if start < domDict[gene][0]:\n",
    "        domDict[gene][0] = start\n",
    "        \n",
    "    if stop > domDict[gene][1]:\n",
    "        domDict[gene][1] = stop\n",
    "\n",
    "    #print(gene,evalue,domDict[gene][0],domDict[gene][1])\n",
    "\n",
    "fi.close()"
   ]
  },
  {
   "cell_type": "code",
   "execution_count": 42,
   "id": "d19177ea",
   "metadata": {},
   "outputs": [],
   "source": [
    "fo = open(outfile, 'w')\n",
    "for gene in seqDict:\n",
    "    if gene not in domDict:\n",
    "        continue\n",
    "    seq = seqDict[gene]\n",
    "    start = int(domDict[gene][0])\n",
    "    stop = int(domDict[gene][1]+1)   \n",
    "    domain = seq[start:stop]\n",
    "    \n",
    "    #print(len(domain), gene)\n",
    "    if len(domain) > 650 or len(domain) < 350:\n",
    "        continue\n",
    "        \n",
    "    #print(len(domain), gene)\n",
    "    \n",
    "    fo.write('>' + gene + '\\n' + domain + '\\n')\n",
    "    \n",
    "fo.close()"
   ]
  },
  {
   "cell_type": "code",
   "execution_count": null,
   "id": "d506e9a2",
   "metadata": {},
   "outputs": [],
   "source": []
  }
 ],
 "metadata": {
  "kernelspec": {
   "display_name": "genomics",
   "language": "python",
   "name": "genomics"
  },
  "language_info": {
   "codemirror_mode": {
    "name": "ipython",
    "version": 3
   },
   "file_extension": ".py",
   "mimetype": "text/x-python",
   "name": "python",
   "nbconvert_exporter": "python",
   "pygments_lexer": "ipython3",
   "version": "3.6.13"
  }
 },
 "nbformat": 4,
 "nbformat_minor": 5
}
