{
 "cells": [
  {
   "cell_type": "code",
   "execution_count": 23,
   "id": "935b6ade",
   "metadata": {},
   "outputs": [],
   "source": [
    "funcfile = '../../../../figshare/functional_enrichment_analysis/functional_enrichment_results_GO.txt'\n",
    "outdir = '../../../../figshare/functional_enrichment_analysis/'"
   ]
  },
  {
   "cell_type": "code",
   "execution_count": 15,
   "id": "088651b1",
   "metadata": {},
   "outputs": [],
   "source": [
    "catDict = {}\n",
    "fi = open(funcfile)\n",
    "\n",
    "for line in fi:\n",
    "    col = line.rstrip().split('\\t')\n",
    "    if col[0] == 'set':\n",
    "        continue\n",
    "    \n",
    "    cat = col[0]\n",
    "    if cat not in catDict:\n",
    "        catDict[cat] = {}\n",
    "    \n",
    "    go = col[1]\n",
    "    pval = col[12]\n",
    "\n",
    "    if float(pval) < 0.05:\n",
    "        catDict[cat][go] = pval\n",
    "    \n",
    "\n",
    "fi.close()"
   ]
  },
  {
   "cell_type": "code",
   "execution_count": 16,
   "id": "70ca5719",
   "metadata": {},
   "outputs": [
    {
     "name": "stdout",
     "output_type": "stream",
     "text": [
      "gastropods 842\n",
      "sacoglossans 187\n",
      "alldegs 745\n"
     ]
    }
   ],
   "source": [
    "for cat in catDict:\n",
    "    print(cat, len(catDict[cat]))\n",
    "    \n",
    "    outfile = outdir + cat + '_for_revigo.txt'\n",
    "    \n",
    "    fo = open(outfile, 'w')\n",
    "    \n",
    "    for go in catDict[cat]:\n",
    "        fo.write(go + '\\t' + catDict[cat][go] + '\\n')\n",
    "    \n",
    "    fo.close()"
   ]
  },
  {
   "cell_type": "code",
   "execution_count": 17,
   "id": "c6feeded",
   "metadata": {},
   "outputs": [],
   "source": [
    "import glob"
   ]
  },
  {
   "cell_type": "code",
   "execution_count": 24,
   "id": "c3b718dc",
   "metadata": {},
   "outputs": [],
   "source": [
    "infiles = '../../../../figshare/functional_enrichment_analysis/Revigo*'\n",
    "outfile = '../../../../figshare/functional_enrichment_analysis/functional_enrichment_results_GO_revigo.txt'"
   ]
  },
  {
   "cell_type": "code",
   "execution_count": 25,
   "id": "597d62ff",
   "metadata": {},
   "outputs": [],
   "source": [
    "keepDict = {}\n",
    "\n",
    "for infile in glob.glob(infiles):\n",
    "    cat = infile.split('_')[-1].split('.')[0]\n",
    "    #print(cat)\n",
    "    if cat not in keepDict:\n",
    "        keepDict[cat] = set()\n",
    "    fi = open(infile)\n",
    "    \n",
    "    for line in fi:\n",
    "        col = line.rstrip().split('\\t')\n",
    "        if col[0] == 'TermID':\n",
    "            continue\n",
    "        \n",
    "        go = col[0]\n",
    "        \n",
    "        if col[7] == 'null':\n",
    "            #print(go)\n",
    "            keepDict[cat].add(go)\n",
    "    \n",
    "    fi.close"
   ]
  },
  {
   "cell_type": "code",
   "execution_count": 26,
   "id": "e83764ef",
   "metadata": {},
   "outputs": [],
   "source": [
    "fi = open(funcfile)\n",
    "fo = open(outfile, 'w')\n",
    "\n",
    "for line in fi:\n",
    "    col = line.rstrip().split('\\t')\n",
    "    if col[0] == 'set':\n",
    "        fo.write(line)\n",
    "        continue\n",
    "    \n",
    "    cat = col[0]\n",
    "    if cat not in catDict:\n",
    "        catDict[cat] = {}\n",
    "    \n",
    "    go = col[1]\n",
    "    \n",
    "    if go in keepDict[cat]:\n",
    "        fo.write(line)\n",
    "\n",
    "fi.close()\n",
    "fo.close()"
   ]
  },
  {
   "cell_type": "code",
   "execution_count": null,
   "id": "2bc6eca6",
   "metadata": {},
   "outputs": [],
   "source": []
  }
 ],
 "metadata": {
  "kernelspec": {
   "display_name": "Python (My env.genomics Kernel)",
   "language": "python",
   "name": "env.genomics"
  },
  "language_info": {
   "codemirror_mode": {
    "name": "ipython",
    "version": 3
   },
   "file_extension": ".py",
   "mimetype": "text/x-python",
   "name": "python",
   "nbconvert_exporter": "python",
   "pygments_lexer": "ipython3",
   "version": "3.6.10"
  }
 },
 "nbformat": 4,
 "nbformat_minor": 5
}
