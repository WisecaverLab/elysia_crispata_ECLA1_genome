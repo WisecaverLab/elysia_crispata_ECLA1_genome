{
 "cells": [
  {
   "cell_type": "code",
   "execution_count": 1,
   "id": "d9393e93",
   "metadata": {},
   "outputs": [],
   "source": [
    "import statistics"
   ]
  },
  {
   "cell_type": "code",
   "execution_count": 10,
   "id": "8e212c20",
   "metadata": {},
   "outputs": [],
   "source": [
    "aifile = '../../../../../figshare/alien_index/alien_index_recipientPLACOBRANCHOIDEA_ancestralMETAZOA.txt'\n",
    "gfffile = '../../../../../figshare/annotation/genes/Elysia_crispata_ECLA1_v1.gff'\n",
    "outfile = '../../../../../figshare/alien_index/Elysia-flye-racon1-medaka-nextpolish-contig-ai-summary.txt'\n",
    "skiplist = []"
   ]
  },
  {
   "cell_type": "code",
   "execution_count": 11,
   "id": "6a346ffa",
   "metadata": {},
   "outputs": [],
   "source": [
    "aidict = {}\n",
    "\n",
    "fi = open(aifile)\n",
    "\n",
    "for line in fi:\n",
    "    #print(line)\n",
    "    if line[0] == '#':\n",
    "        continue\n",
    "        \n",
    "    ai = float(line.split('\\t')[13])\n",
    "    gene = line.split('\\t')[0].split('.')[0]\n",
    "    #print(gene,ai)\n",
    "    \n",
    "    aidict[gene] = ai\n",
    "    \n",
    "fi.close()"
   ]
  },
  {
   "cell_type": "code",
   "execution_count": 12,
   "id": "28087e8b",
   "metadata": {},
   "outputs": [],
   "source": [
    "#!grep gene {gfffile}"
   ]
  },
  {
   "cell_type": "code",
   "execution_count": 13,
   "id": "c29c1a1c",
   "metadata": {},
   "outputs": [],
   "source": [
    "contigdict = {}\n",
    "genedict = {}\n",
    "contiglookup = {}\n",
    "\n",
    "fi = open(gfffile)\n",
    "\n",
    "for line in fi:\n",
    "    #print(line)\n",
    "    col = line.rstrip().split('\\t')\n",
    "\n",
    "\n",
    "    if col[2] == 'gene':\n",
    "        contig = col[0]\n",
    "        if contig not in contigdict:\n",
    "            contigdict[contig] = []\n",
    "            genedict[contig] = []\n",
    "\n",
    "\n",
    "        gene = col[8].split('ID=')[1].split(';')[0]\n",
    "        contiglookup[gene] = contig\n",
    "\n",
    "        #print(contig,gene)\n",
    "        \n",
    "        if gene in aidict:\n",
    "            ai = aidict[gene]\n",
    "            #print(contig, gene, ai)\n",
    "            \n",
    "            contigdict[contig].append(ai)\n",
    "            genedict[contig].append(gene)\n",
    "\n",
    "fi.close()"
   ]
  },
  {
   "cell_type": "code",
   "execution_count": 16,
   "id": "769bb278",
   "metadata": {},
   "outputs": [],
   "source": [
    "fo = open(outfile, 'w')\n",
    "fo.write(\"#ai genes are those with with ai greater than 0.1\\n\")\n",
    "fo.write(\"#contigs were excluded if percent ai genes greater than or equal to 0.5 and/or minimum ai for all genes on a contig was greater than zero\\n\")\n",
    "fo.write(f'#contig\\tnum genes\\tnum ai genes\\tpercent ai genes\\tavg ai\\tmedian ai\\tmin ai\\tmax ai\\tgenelist\\n')\n",
    "\n",
    "for contig in contigdict:\n",
    "    numgenes = len(contigdict[contig])\n",
    "    if numgenes > 0:\n",
    "        avgai = sum(contigdict[contig]) / len(contigdict[contig])\n",
    "        medai = statistics.median(contigdict[contig])\n",
    "        minai = min(contigdict[contig])\n",
    "        maxai = max(contigdict[contig])\n",
    "        countai = len([i for i in contigdict[contig] if i > 0.1])\n",
    "        perai = countai / numgenes\n",
    "        genelist = ', '.join(genedict[contig])\n",
    "        #print(contig,numgenes,avgai,medai,minai,maxai, genelist)\n",
    "        fo.write(f'{contig}\\t{numgenes}\\t{countai}\\t{perai}\\t{avgai}\\t{medai}\\t{minai}\\t{maxai}\\t{genelist}\\n')\n",
    "        \n",
    "        if perai >= 0.5 or minai > 0:\n",
    "            skiplist.append(contig)\n",
    "fo.close()"
   ]
  },
  {
   "cell_type": "code",
   "execution_count": 19,
   "id": "1be46185",
   "metadata": {},
   "outputs": [],
   "source": [
    "fo = open('../../../02_Assembly/Elysia-flye-racon1-medaka-nextpolish-contigs-to-exclude.txt', 'w')\n",
    "\n",
    "for contig in skiplist:\n",
    "    fo.write(contig + '\\n')\n",
    "fo.close()"
   ]
  },
  {
   "cell_type": "code",
   "execution_count": 15,
   "id": "db333fa4",
   "metadata": {},
   "outputs": [],
   "source": [
    "fi = open(aifile)\n",
    "fo = open('../../../11_Other_analyses/alien_index/alien_index_recipientPLACOBRANCHOIDEA_ancestralMETAZOA_filtered.txt', 'w')\n",
    "figo = open('../figures/ai_table.Rin', 'w')\n",
    "figo.write('gene\\tnormbitscoremetazoa\\tnormbitscoreother\\tai\\tnumhits\\n')\n",
    "\n",
    "for line in fi:\n",
    "    #print(line)\n",
    "    if line[0] == '#':\n",
    "        fo.write(line)\n",
    "        continue\n",
    "        \n",
    "    ai = float(line.split('\\t')[13])\n",
    "    gene = line.split('\\t')[0].split('.')[0]\n",
    "    #print(gene,ai)\n",
    "    subclade = line.split('\\t')[2]\n",
    "    contig = contiglookup[gene]\n",
    "    nbmeta = line.split('\\t')[8]\n",
    "    nbother = line.split('\\t')[12]\n",
    "    numhits = line.rstrip().split('\\t')[19]\n",
    "    if numhits == '>200':\n",
    "        numhits = 200\n",
    "    #print(gene,nbmeta,nbother,numhits)\n",
    "    \n",
    "    numhits = int(numhits)\n",
    "    if numhits > 50:\n",
    "        if contig not in skiplist:\n",
    "            figo.write(gene + '\\t' + nbmeta + '\\t' + nbother + '\\t' + str(ai) + '\\t' + str(numhits) + '\\n')\n",
    "    \n",
    "            #print(gene,ai,contig)\n",
    "            if ai > 0.1:\n",
    "                fo.write(line)\n",
    "                #print(gene,ai,contig)\n",
    "            \n",
    "fi.close()\n",
    "fo.close()\n",
    "figo.close()"
   ]
  },
  {
   "cell_type": "code",
   "execution_count": null,
   "id": "cc150c7c",
   "metadata": {},
   "outputs": [],
   "source": []
  }
 ],
 "metadata": {
  "kernelspec": {
   "display_name": "Python (My env.genomics Kernel)",
   "language": "python",
   "name": "env.genomics"
  },
  "language_info": {
   "codemirror_mode": {
    "name": "ipython",
    "version": 3
   },
   "file_extension": ".py",
   "mimetype": "text/x-python",
   "name": "python",
   "nbconvert_exporter": "python",
   "pygments_lexer": "ipython3",
   "version": "3.6.10"
  }
 },
 "nbformat": 4,
 "nbformat_minor": 5
}
